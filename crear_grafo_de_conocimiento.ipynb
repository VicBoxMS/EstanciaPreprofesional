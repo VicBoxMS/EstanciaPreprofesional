{
  "nbformat": 4,
  "nbformat_minor": 0,
  "metadata": {
    "colab": {
      "provenance": [],
      "collapsed_sections": []
    },
    "kernelspec": {
      "name": "python3",
      "display_name": "Python 3"
    },
    "language_info": {
      "name": "python"
    }
  },
  "cells": [
    {
      "cell_type": "code",
      "source": [
        "#Requerimientos necesarios\n",
        "!pip install -U spacy==3.2.4\n",
        "!python -m spacy download es_core_news_md\n",
        "!pip install py2neo==2021.2.3\n",
        "!pip install neo4j==4.2.0\n",
        "import numpy as np\n",
        "import pandas as pd\n",
        "import spacy\n",
        "import es_core_news_md\n",
        "import time\n",
        "from py2neo import Graph, Node, Relationship"
      ],
      "metadata": {
        "colab": {
          "base_uri": "https://localhost:8080/"
        },
        "id": "jmwsA4mVg-LI",
        "outputId": "95dc0074-4f3f-4baf-917c-a9f592716c97"
      },
      "execution_count": null,
      "outputs": [
        {
          "output_type": "stream",
          "name": "stdout",
          "text": [
            "Looking in indexes: https://pypi.org/simple, https://us-python.pkg.dev/colab-wheels/public/simple/\n",
            "Requirement already satisfied: spacy==3.2.4 in /usr/local/lib/python3.7/dist-packages (3.2.4)\n",
            "Requirement already satisfied: packaging>=20.0 in /usr/local/lib/python3.7/dist-packages (from spacy==3.2.4) (21.3)\n",
            "Requirement already satisfied: tqdm<5.0.0,>=4.38.0 in /usr/local/lib/python3.7/dist-packages (from spacy==3.2.4) (4.64.1)\n",
            "Requirement already satisfied: pydantic!=1.8,!=1.8.1,<1.9.0,>=1.7.4 in /usr/local/lib/python3.7/dist-packages (from spacy==3.2.4) (1.8.2)\n",
            "Requirement already satisfied: typer<0.5.0,>=0.3.0 in /usr/local/lib/python3.7/dist-packages (from spacy==3.2.4) (0.4.2)\n",
            "Requirement already satisfied: catalogue<2.1.0,>=2.0.6 in /usr/local/lib/python3.7/dist-packages (from spacy==3.2.4) (2.0.8)\n",
            "Requirement already satisfied: setuptools in /usr/local/lib/python3.7/dist-packages (from spacy==3.2.4) (57.4.0)\n",
            "Requirement already satisfied: jinja2 in /usr/local/lib/python3.7/dist-packages (from spacy==3.2.4) (2.11.3)\n",
            "Requirement already satisfied: thinc<8.1.0,>=8.0.12 in /usr/local/lib/python3.7/dist-packages (from spacy==3.2.4) (8.0.17)\n",
            "Requirement already satisfied: wasabi<1.1.0,>=0.8.1 in /usr/local/lib/python3.7/dist-packages (from spacy==3.2.4) (0.10.1)\n",
            "Requirement already satisfied: numpy>=1.15.0 in /usr/local/lib/python3.7/dist-packages (from spacy==3.2.4) (1.21.6)\n",
            "Requirement already satisfied: srsly<3.0.0,>=2.4.1 in /usr/local/lib/python3.7/dist-packages (from spacy==3.2.4) (2.4.5)\n",
            "Requirement already satisfied: click<8.1.0 in /usr/local/lib/python3.7/dist-packages (from spacy==3.2.4) (7.1.2)\n",
            "Requirement already satisfied: preshed<3.1.0,>=3.0.2 in /usr/local/lib/python3.7/dist-packages (from spacy==3.2.4) (3.0.8)\n",
            "Requirement already satisfied: spacy-legacy<3.1.0,>=3.0.8 in /usr/local/lib/python3.7/dist-packages (from spacy==3.2.4) (3.0.10)\n",
            "Requirement already satisfied: murmurhash<1.1.0,>=0.28.0 in /usr/local/lib/python3.7/dist-packages (from spacy==3.2.4) (1.0.9)\n",
            "Requirement already satisfied: blis<0.8.0,>=0.4.0 in /usr/local/lib/python3.7/dist-packages (from spacy==3.2.4) (0.7.9)\n",
            "Requirement already satisfied: requests<3.0.0,>=2.13.0 in /usr/local/lib/python3.7/dist-packages (from spacy==3.2.4) (2.23.0)\n",
            "Requirement already satisfied: typing-extensions<4.0.0.0,>=3.7.4 in /usr/local/lib/python3.7/dist-packages (from spacy==3.2.4) (3.10.0.2)\n",
            "Requirement already satisfied: langcodes<4.0.0,>=3.2.0 in /usr/local/lib/python3.7/dist-packages (from spacy==3.2.4) (3.3.0)\n",
            "Requirement already satisfied: pathy>=0.3.5 in /usr/local/lib/python3.7/dist-packages (from spacy==3.2.4) (0.6.2)\n",
            "Requirement already satisfied: spacy-loggers<2.0.0,>=1.0.0 in /usr/local/lib/python3.7/dist-packages (from spacy==3.2.4) (1.0.3)\n",
            "Requirement already satisfied: cymem<2.1.0,>=2.0.2 in /usr/local/lib/python3.7/dist-packages (from spacy==3.2.4) (2.0.7)\n",
            "Requirement already satisfied: zipp>=0.5 in /usr/local/lib/python3.7/dist-packages (from catalogue<2.1.0,>=2.0.6->spacy==3.2.4) (3.10.0)\n",
            "Requirement already satisfied: pyparsing!=3.0.5,>=2.0.2 in /usr/local/lib/python3.7/dist-packages (from packaging>=20.0->spacy==3.2.4) (3.0.9)\n",
            "Requirement already satisfied: smart-open<6.0.0,>=5.2.1 in /usr/local/lib/python3.7/dist-packages (from pathy>=0.3.5->spacy==3.2.4) (5.2.1)\n",
            "Requirement already satisfied: idna<3,>=2.5 in /usr/local/lib/python3.7/dist-packages (from requests<3.0.0,>=2.13.0->spacy==3.2.4) (2.10)\n",
            "Requirement already satisfied: certifi>=2017.4.17 in /usr/local/lib/python3.7/dist-packages (from requests<3.0.0,>=2.13.0->spacy==3.2.4) (2022.9.24)\n",
            "Requirement already satisfied: urllib3!=1.25.0,!=1.25.1,<1.26,>=1.21.1 in /usr/local/lib/python3.7/dist-packages (from requests<3.0.0,>=2.13.0->spacy==3.2.4) (1.24.3)\n",
            "Requirement already satisfied: chardet<4,>=3.0.2 in /usr/local/lib/python3.7/dist-packages (from requests<3.0.0,>=2.13.0->spacy==3.2.4) (3.0.4)\n",
            "Requirement already satisfied: MarkupSafe>=0.23 in /usr/local/lib/python3.7/dist-packages (from jinja2->spacy==3.2.4) (2.0.1)\n",
            "Looking in indexes: https://pypi.org/simple, https://us-python.pkg.dev/colab-wheels/public/simple/\n",
            "Collecting es-core-news-md==3.2.0\n",
            "  Downloading https://github.com/explosion/spacy-models/releases/download/es_core_news_md-3.2.0/es_core_news_md-3.2.0-py3-none-any.whl (43.4 MB)\n",
            "\u001b[K     |████████████████████████████████| 43.4 MB 58.7 MB/s \n",
            "\u001b[?25hRequirement already satisfied: spacy<3.3.0,>=3.2.0 in /usr/local/lib/python3.7/dist-packages (from es-core-news-md==3.2.0) (3.2.4)\n",
            "Requirement already satisfied: cymem<2.1.0,>=2.0.2 in /usr/local/lib/python3.7/dist-packages (from spacy<3.3.0,>=3.2.0->es-core-news-md==3.2.0) (2.0.7)\n",
            "Requirement already satisfied: click<8.1.0 in /usr/local/lib/python3.7/dist-packages (from spacy<3.3.0,>=3.2.0->es-core-news-md==3.2.0) (7.1.2)\n",
            "Requirement already satisfied: pathy>=0.3.5 in /usr/local/lib/python3.7/dist-packages (from spacy<3.3.0,>=3.2.0->es-core-news-md==3.2.0) (0.6.2)\n",
            "Requirement already satisfied: spacy-legacy<3.1.0,>=3.0.8 in /usr/local/lib/python3.7/dist-packages (from spacy<3.3.0,>=3.2.0->es-core-news-md==3.2.0) (3.0.10)\n",
            "Requirement already satisfied: preshed<3.1.0,>=3.0.2 in /usr/local/lib/python3.7/dist-packages (from spacy<3.3.0,>=3.2.0->es-core-news-md==3.2.0) (3.0.8)\n",
            "Requirement already satisfied: typer<0.5.0,>=0.3.0 in /usr/local/lib/python3.7/dist-packages (from spacy<3.3.0,>=3.2.0->es-core-news-md==3.2.0) (0.4.2)\n",
            "Requirement already satisfied: numpy>=1.15.0 in /usr/local/lib/python3.7/dist-packages (from spacy<3.3.0,>=3.2.0->es-core-news-md==3.2.0) (1.21.6)\n",
            "Requirement already satisfied: srsly<3.0.0,>=2.4.1 in /usr/local/lib/python3.7/dist-packages (from spacy<3.3.0,>=3.2.0->es-core-news-md==3.2.0) (2.4.5)\n",
            "Requirement already satisfied: packaging>=20.0 in /usr/local/lib/python3.7/dist-packages (from spacy<3.3.0,>=3.2.0->es-core-news-md==3.2.0) (21.3)\n",
            "Requirement already satisfied: setuptools in /usr/local/lib/python3.7/dist-packages (from spacy<3.3.0,>=3.2.0->es-core-news-md==3.2.0) (57.4.0)\n",
            "Requirement already satisfied: thinc<8.1.0,>=8.0.12 in /usr/local/lib/python3.7/dist-packages (from spacy<3.3.0,>=3.2.0->es-core-news-md==3.2.0) (8.0.17)\n",
            "Requirement already satisfied: spacy-loggers<2.0.0,>=1.0.0 in /usr/local/lib/python3.7/dist-packages (from spacy<3.3.0,>=3.2.0->es-core-news-md==3.2.0) (1.0.3)\n",
            "Requirement already satisfied: typing-extensions<4.0.0.0,>=3.7.4 in /usr/local/lib/python3.7/dist-packages (from spacy<3.3.0,>=3.2.0->es-core-news-md==3.2.0) (3.10.0.2)\n",
            "Requirement already satisfied: pydantic!=1.8,!=1.8.1,<1.9.0,>=1.7.4 in /usr/local/lib/python3.7/dist-packages (from spacy<3.3.0,>=3.2.0->es-core-news-md==3.2.0) (1.8.2)\n",
            "Requirement already satisfied: jinja2 in /usr/local/lib/python3.7/dist-packages (from spacy<3.3.0,>=3.2.0->es-core-news-md==3.2.0) (2.11.3)\n",
            "Requirement already satisfied: requests<3.0.0,>=2.13.0 in /usr/local/lib/python3.7/dist-packages (from spacy<3.3.0,>=3.2.0->es-core-news-md==3.2.0) (2.23.0)\n",
            "Requirement already satisfied: tqdm<5.0.0,>=4.38.0 in /usr/local/lib/python3.7/dist-packages (from spacy<3.3.0,>=3.2.0->es-core-news-md==3.2.0) (4.64.1)\n",
            "Requirement already satisfied: catalogue<2.1.0,>=2.0.6 in /usr/local/lib/python3.7/dist-packages (from spacy<3.3.0,>=3.2.0->es-core-news-md==3.2.0) (2.0.8)\n",
            "Requirement already satisfied: wasabi<1.1.0,>=0.8.1 in /usr/local/lib/python3.7/dist-packages (from spacy<3.3.0,>=3.2.0->es-core-news-md==3.2.0) (0.10.1)\n",
            "Requirement already satisfied: murmurhash<1.1.0,>=0.28.0 in /usr/local/lib/python3.7/dist-packages (from spacy<3.3.0,>=3.2.0->es-core-news-md==3.2.0) (1.0.9)\n",
            "Requirement already satisfied: blis<0.8.0,>=0.4.0 in /usr/local/lib/python3.7/dist-packages (from spacy<3.3.0,>=3.2.0->es-core-news-md==3.2.0) (0.7.9)\n",
            "Requirement already satisfied: langcodes<4.0.0,>=3.2.0 in /usr/local/lib/python3.7/dist-packages (from spacy<3.3.0,>=3.2.0->es-core-news-md==3.2.0) (3.3.0)\n",
            "Requirement already satisfied: zipp>=0.5 in /usr/local/lib/python3.7/dist-packages (from catalogue<2.1.0,>=2.0.6->spacy<3.3.0,>=3.2.0->es-core-news-md==3.2.0) (3.10.0)\n",
            "Requirement already satisfied: pyparsing!=3.0.5,>=2.0.2 in /usr/local/lib/python3.7/dist-packages (from packaging>=20.0->spacy<3.3.0,>=3.2.0->es-core-news-md==3.2.0) (3.0.9)\n",
            "Requirement already satisfied: smart-open<6.0.0,>=5.2.1 in /usr/local/lib/python3.7/dist-packages (from pathy>=0.3.5->spacy<3.3.0,>=3.2.0->es-core-news-md==3.2.0) (5.2.1)\n",
            "Requirement already satisfied: certifi>=2017.4.17 in /usr/local/lib/python3.7/dist-packages (from requests<3.0.0,>=2.13.0->spacy<3.3.0,>=3.2.0->es-core-news-md==3.2.0) (2022.9.24)\n",
            "Requirement already satisfied: idna<3,>=2.5 in /usr/local/lib/python3.7/dist-packages (from requests<3.0.0,>=2.13.0->spacy<3.3.0,>=3.2.0->es-core-news-md==3.2.0) (2.10)\n",
            "Requirement already satisfied: chardet<4,>=3.0.2 in /usr/local/lib/python3.7/dist-packages (from requests<3.0.0,>=2.13.0->spacy<3.3.0,>=3.2.0->es-core-news-md==3.2.0) (3.0.4)\n",
            "Requirement already satisfied: urllib3!=1.25.0,!=1.25.1,<1.26,>=1.21.1 in /usr/local/lib/python3.7/dist-packages (from requests<3.0.0,>=2.13.0->spacy<3.3.0,>=3.2.0->es-core-news-md==3.2.0) (1.24.3)\n",
            "Requirement already satisfied: MarkupSafe>=0.23 in /usr/local/lib/python3.7/dist-packages (from jinja2->spacy<3.3.0,>=3.2.0->es-core-news-md==3.2.0) (2.0.1)\n",
            "\u001b[38;5;2m✔ Download and installation successful\u001b[0m\n",
            "You can now load the package via spacy.load('es_core_news_md')\n",
            "Looking in indexes: https://pypi.org/simple, https://us-python.pkg.dev/colab-wheels/public/simple/\n",
            "Requirement already satisfied: py2neo==2021.2.3 in /usr/local/lib/python3.7/dist-packages (2021.2.3)\n",
            "Requirement already satisfied: pygments>=2.0.0 in /usr/local/lib/python3.7/dist-packages (from py2neo==2021.2.3) (2.6.1)\n",
            "Requirement already satisfied: six>=1.15.0 in /usr/local/lib/python3.7/dist-packages (from py2neo==2021.2.3) (1.15.0)\n",
            "Requirement already satisfied: certifi in /usr/local/lib/python3.7/dist-packages (from py2neo==2021.2.3) (2022.9.24)\n",
            "Requirement already satisfied: urllib3 in /usr/local/lib/python3.7/dist-packages (from py2neo==2021.2.3) (1.24.3)\n",
            "Requirement already satisfied: monotonic in /usr/local/lib/python3.7/dist-packages (from py2neo==2021.2.3) (1.6)\n",
            "Requirement already satisfied: packaging in /usr/local/lib/python3.7/dist-packages (from py2neo==2021.2.3) (21.3)\n",
            "Requirement already satisfied: interchange~=2021.0.4 in /usr/local/lib/python3.7/dist-packages (from py2neo==2021.2.3) (2021.0.4)\n",
            "Requirement already satisfied: pansi>=2020.7.3 in /usr/local/lib/python3.7/dist-packages (from py2neo==2021.2.3) (2020.7.3)\n",
            "Requirement already satisfied: pytz in /usr/local/lib/python3.7/dist-packages (from interchange~=2021.0.4->py2neo==2021.2.3) (2022.5)\n",
            "Requirement already satisfied: pyparsing!=3.0.5,>=2.0.2 in /usr/local/lib/python3.7/dist-packages (from packaging->py2neo==2021.2.3) (3.0.9)\n",
            "Looking in indexes: https://pypi.org/simple, https://us-python.pkg.dev/colab-wheels/public/simple/\n",
            "Requirement already satisfied: neo4j==4.2.0 in /usr/local/lib/python3.7/dist-packages (4.2.0)\n",
            "Requirement already satisfied: pytz in /usr/local/lib/python3.7/dist-packages (from neo4j==4.2.0) (2022.5)\n"
          ]
        }
      ]
    },
    {
      "cell_type": "code",
      "execution_count": null,
      "metadata": {
        "id": "-WmAt8TTM4VU"
      },
      "outputs": [],
      "source": [
        "def crear_grafo_de_conocimiento(data_frame,riesgo_de_interes,informacion_base_remota,usar_modelo_spacy=True):\n",
        "  \"\"\"\n",
        "  data_frame  (str): recibe direccion o path de de los datos a utilizar, \n",
        "                     idealmente se esta pensando en un archivo xlsx (excel) \n",
        "                     El data frame debe contener las columnas 'Nota' que contiene las noticias\n",
        "                     y 'Riesgo' que contiene el tipo de Riesgo de las noticias\n",
        "\n",
        "  riesgo_de_interes: Si se desea crear el grafo de interes a un tipo de riesgo \n",
        "                     en especifico por ejemplo 'Ambiental','Security'\n",
        "                     Si se desea crear para todas las noticias, tambien se \n",
        "                     puede especificar 'None'\n",
        "\n",
        "  informacion_base_remota (str1,str2,str3): Tupla de 3 elementos que contiene \n",
        "                                           los datos necesarios  para conectarse \n",
        "                                           remotamente a la base de datos de Neo4j\n",
        "                                           str1: url  \n",
        "                                           str2: user , user usualmente es neo4j\n",
        "                                           str3: password \n",
        "\n",
        "  usar_modelo_spacy :  True o False, por defecto True, utiliza el modelo spacy \n",
        "                      preentrenado para identificar las entidades en los textos \n",
        "  \"\"\"\n",
        "\n",
        "  #Establecer conexion con la base de datos\n",
        "  graph = Graph(informacion_base_remota[0],auth=(informacion_base_remota[1],informacion_base_remota[2]))\n",
        "  graph.delete_all()\n",
        "  graph.run(\"CALL apoc.schema.assert({},{},true) YIELD label, key RETURN *\")\n",
        "  #Comenzar con la lectura del archivo\n",
        "  #Eliminar noticias que pudieran estar dañadas\n",
        "  df=pd.read_excel(data_frame)  \n",
        "  df=df[df['Nota'].notnull()]             \n",
        "  df=df[df['Riesgo'].notnull()]           \n",
        "  ##Filtrando df por tipo de riesgo\n",
        "  if riesgo_de_interes !=None:\n",
        "    df_riesgo = df[df['Riesgo']==riesgo_de_interes]\n",
        "\n",
        "  df_notas = df_riesgo['Nota']\n",
        "  if usar_modelo_spacy: \n",
        "    ##Carga de modelo\n",
        "    import es_core_news_md\n",
        "    nlp = spacy.load(\"es_core_news_md\")\n",
        "    entidades= ['PER','LOC','ORG','MISC'] \n",
        "    ##Notas: Estas entidades estan asociadas al modelo del modelo por defecto en Spacy\n",
        "  else:\n",
        "    nlp = spacy.load(\"/content/drive/MyDrive/modelos_estancia/model-best\", disable = ['parser', 'tagger'])\n",
        "    nlp.add_pipe('sentencizer')\n",
        "    entidades= ['PERSONAS','LOCACIONES','ORGANIZACIONES','OTROS','PUESTOSDETRABAJO'] \n",
        "  ##Notas: Estas entidades estan asociadas al modelo creado por nosotros\n",
        "  #filtro para elegir, las entidades de interes\n",
        "  #########################################\n",
        "  tipo_entidades = [] \n",
        "  entities = []   \n",
        "                                ##Numero de noticias  a procesar\n",
        "  for article in df_notas[::-1][:200]:\n",
        "      tokens = nlp(''.join(article))\n",
        "      gpe_list = []\n",
        "      ent_list = []\n",
        "      for ent in tokens.ents:\n",
        "        if ent.label_ in entidades:\n",
        "            gpe_list.append(ent.text)\n",
        "            ent_list.append(ent.label_)\n",
        "      entities.append(gpe_list)\n",
        "      tipo_entidades.append(ent_list)    \n",
        "  articulos = []\n",
        "      #Limpiar tokens con palabras mal identificadas, stopwords y otros tokens\n",
        "      #que no son de nuestro interes\n",
        "  for entity_list in entities:\n",
        "      cleaned_entity_list = []\n",
        "      for entity in entity_list:\n",
        "        a=(entity.lstrip('Los').replace(\"'s\", \"\").replace(\"’s\",\"\"))\n",
        "        b=a.replace(\"Respecto\", \"\").replace(\"¡Basta\", \"\").replace(\"“\", \"\")\n",
        "        c=b.lstrip('').replace('Comentó',\"\")\n",
        "        cleaned_entity_list.append(c)\n",
        "      articulos.append(cleaned_entity_list)\n",
        "      ## Despues de ello, podrian quedarnos algunas noticias vacias\n",
        "      ## Filtrar noticias vacias\n",
        "  articulos_tipo_entidades = [tipo_entidades[i] for i,article in enumerate(articulos) if article != []]\n",
        "  articulos = [article for article in articulos if article != []]\n",
        "\n",
        "  articulos_stopwords = []\n",
        "  articulos_tipo_entidades_stopwords = []\n",
        "      ##No solo nos pudieran quedar noticias vacias, sino tambien noticias que tengan tokens del tipo: ''\n",
        "      ##estos tokens no aportan informacion por lo que son removidos\n",
        "  for contador_1 , i in enumerate(articulos):\n",
        "    noticiai = []\n",
        "    entidadesi = []\n",
        "    for contador_2, j in enumerate(i):\n",
        "      if j !='':\n",
        "        noticiai.append(j)\n",
        "        entidadesi.append(articulos_tipo_entidades[contador_1][contador_2])\n",
        "    articulos_stopwords.append(noticiai)\n",
        "    articulos_tipo_entidades_stopwords.append(entidadesi)\n",
        "  graph.delete_all()\n",
        "  ##Codigo que nos permite \n",
        "  ##establecer las relaciones implicitas entre entidades\n",
        "  for c ,entities in enumerate(articulos_stopwords):   ##para cada noticia\n",
        "      if len(entities) >3:\n",
        "          for i in range(len(entities)-1):             ##para cada entidad en la noticia\n",
        "            a = Node(articulos_tipo_entidades_stopwords[c][i],name=str(entities[i]) ,\n",
        "                    municipio='zapopan',fecha='11/10/20')              ##crear un nodo \n",
        "            b = Node(articulos_tipo_entidades_stopwords[c][i+1],name=str(entities[i+1]),\n",
        "                    municipio= 'guadalajara',fecha='11/10/20')       ##crear un nodo con ciertos atributos\n",
        "            ab=Relationship(a,'r-implicita',b)                        ##establecer la relacion entre los nodos\n",
        "            graph.create(ab)                                                                                          \n",
        "  \"\"\"\n",
        "  parche del dia 03-11-2022\n",
        "  la función .query() ya no es valida y es sustituida por .run()\n",
        "  \"\"\"\n",
        "  #graph.query(\"MATCH (n) WITH toLower(n.name) as name, collect(n) as nodes CALL apoc.refactor.mergeNodes(nodes) yield node RETURN *\")\n",
        "  #graph.query(\"match ()-[r]->()  match (s)-[r]->(e)  with s,e,type(r) as typ, tail(collect(r)) as coll  foreach(x in coll | delete x)\")\n",
        "  graph.run(\"MATCH (n) WITH toLower(n.name) as name, collect(n) as nodes CALL apoc.refactor.mergeNodes(nodes) yield node RETURN *\")\n",
        "  graph.run(\"match ()-[r]->()  match (s)-[r]->(e)  with s,e,type(r) as typ, tail(collect(r)) as coll  foreach(x in coll | delete x)\")"
      ]
    },
    {
      "cell_type": "code",
      "source": [
        "\"\"\"\n",
        "#Por ejemplo se podria utilizar los siguientes datos para utilizar la funcion\n",
        "ruta = '/content/drive/MyDrive/estancia_preprofesional/CIMAT_ESTANCIA.xlsx'\n",
        "url = \"neo4j+s://145533a5.databases.neo4j.io\"\n",
        "user = \"neo4j\"\n",
        "password= \"aF07ZbB2Mbbh1ncWRK0Uz3lmICtIv9bMw8VtKzVd5cw\"\n",
        "informacion = [url,user,password] \n",
        "interes='Security'\n",
        "#Utilizar funcion\n",
        "crear_grafo_de_conocimiento(data_frame=ruta,riesgo_de_interes=interes,informacion_base_remota=informacion,usar_modelo_spacy=True)\n",
        "\"\"\""
      ],
      "metadata": {
        "id": "KofY4ShCNEbV",
        "colab": {
          "base_uri": "https://localhost:8080/",
          "height": 89
        },
        "outputId": "93a92360-70b7-4bf4-bf83-15a5fffd08b8"
      },
      "execution_count": null,
      "outputs": [
        {
          "output_type": "execute_result",
          "data": {
            "text/plain": [
              "'\\n#Por ejemplo se podria utilizar los siguientes datos para utilizar la funcion\\nruta = \\'/content/drive/MyDrive/estancia_preprofesional/CIMAT_ESTANCIA.xlsx\\'\\nurl = \"neo4j+s://145533a5.databases.neo4j.io\"\\nuser = \"neo4j\"\\npassword= \"aF07ZbB2Mbbh1ncWRK0Uz3lmICtIv9bMw8VtKzVd5cw\"\\ninformacion = [url,user,password] \\ninteres=\\'Security\\'\\n#Utilizar funcion\\ncrear_grafo_de_conocimiento(data_frame=ruta,riesgo_de_interes=interes,informacion_base_remota=informacion,usar_modelo_spacy=True)\\n'"
            ],
            "application/vnd.google.colaboratory.intrinsic+json": {
              "type": "string"
            }
          },
          "metadata": {},
          "execution_count": 30
        }
      ]
    },
    {
      "cell_type": "code",
      "source": [
        "\"\"\"\n",
        "NEO4J_URI=neo4j+s://73e84c9d.databases.neo4j.io\n",
        "NEO4J_USERNAME=neo4j\n",
        "NEO4J_PASSWORD=ketD21Y-26K6Y2w8Ox-IKjOXoWkJL73a7vjYdZPflB0\n",
        "AURA_INSTANCENAME=Instance01\n",
        "\"\"\""
      ],
      "metadata": {
        "id": "VdF6oTWsNEdy",
        "colab": {
          "base_uri": "https://localhost:8080/",
          "height": 53
        },
        "outputId": "ec8692c4-a545-4e02-ae0d-488c47999cb7"
      },
      "execution_count": null,
      "outputs": [
        {
          "output_type": "execute_result",
          "data": {
            "text/plain": [
              "'\\nNEO4J_URI=neo4j+s://73e84c9d.databases.neo4j.io\\nNEO4J_USERNAME=neo4j\\nNEO4J_PASSWORD=ketD21Y-26K6Y2w8Ox-IKjOXoWkJL73a7vjYdZPflB0\\nAURA_INSTANCENAME=Instance01\\n'"
            ],
            "application/vnd.google.colaboratory.intrinsic+json": {
              "type": "string"
            }
          },
          "metadata": {},
          "execution_count": 31
        }
      ]
    },
    {
      "cell_type": "code",
      "source": [
        "ruta = '/content/drive/MyDrive/estancia_preprofesional/CIMAT_ESTANCIA.xlsx'\n",
        "url = \"bolt://3.239.225.194:7687\"\n",
        "user = \"neo4j\"\n",
        "password= \"metals-treatments-subordinates\"\n",
        "informacion = [url,user,password] \n",
        "interes='Security'\n",
        "#Utilizar funcion\n",
        "crear_grafo_de_conocimiento(data_frame=ruta,riesgo_de_interes=interes,informacion_base_remota=informacion,usar_modelo_spacy=True)"
      ],
      "metadata": {
        "id": "yGY5rWwxlO2D"
      },
      "execution_count": null,
      "outputs": []
    }
  ]
}
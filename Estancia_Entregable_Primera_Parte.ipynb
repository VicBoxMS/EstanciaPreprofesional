{
  "cells": [
    {
      "cell_type": "markdown",
      "metadata": {
        "id": "eNDssaLEFTZv"
      },
      "source": [
        "A continuación se anexa el codigo necesario para realizar las siguientes acciones:\n",
        "\n",
        "- Cargar el modelo NER(Reconocimiento de Entidades), proporcionado por SPACY\n",
        "- Conectarse a SandBox de Neo4j\n",
        "- Crear Nodos en Neo4j apartir de NER"
      ]
    },
    {
      "cell_type": "markdown",
      "metadata": {
        "id": "Uhz8vdUWHevF"
      },
      "source": [
        "# Todas las posibles instalaciones de Cargar el modelo NER"
      ]
    },
    {
      "cell_type": "code",
      "execution_count": null,
      "metadata": {
        "colab": {
          "base_uri": "https://localhost:8080/",
          "height": 492
        },
        "id": "zeSKBZwFHxtm",
        "outputId": "4dae1a3f-c454-44e1-f00d-970360df3d9f"
      },
      "outputs": [
        {
          "output_type": "stream",
          "name": "stdout",
          "text": [
            "\u001b[31mERROR: Operation cancelled by user\u001b[0m\n",
            "\u001b[38;5;3m⚠ Skipping model package dependencies and setting `--no-deps`. You\n",
            "don't seem to have the spaCy package itself installed (maybe because you've\n",
            "built from source?), so installing the model dependencies would cause spaCy to\n",
            "be downloaded, which probably isn't what you want. If the model package has\n",
            "other dependencies, you'll have to install them manually.\u001b[0m\n",
            "\u001b[31mERROR: Operation cancelled by user\u001b[0m\n",
            "^C\n"
          ]
        },
        {
          "output_type": "error",
          "ename": "ModuleNotFoundError",
          "evalue": "ignored",
          "traceback": [
            "\u001b[0;31m---------------------------------------------------------------------------\u001b[0m",
            "\u001b[0;31mModuleNotFoundError\u001b[0m                       Traceback (most recent call last)",
            "\u001b[0;32m<ipython-input-4-b44eaabe0d51>\u001b[0m in \u001b[0;36m<module>\u001b[0;34m()\u001b[0m\n\u001b[1;32m      4\u001b[0m \u001b[0;32mimport\u001b[0m \u001b[0mpandas\u001b[0m \u001b[0;32mas\u001b[0m \u001b[0mpd\u001b[0m\u001b[0;34m\u001b[0m\u001b[0;34m\u001b[0m\u001b[0m\n\u001b[1;32m      5\u001b[0m \u001b[0;32mimport\u001b[0m \u001b[0mspacy\u001b[0m\u001b[0;34m\u001b[0m\u001b[0;34m\u001b[0m\u001b[0m\n\u001b[0;32m----> 6\u001b[0;31m \u001b[0;32mimport\u001b[0m \u001b[0mes_core_news_md\u001b[0m\u001b[0;34m\u001b[0m\u001b[0;34m\u001b[0m\u001b[0m\n\u001b[0m",
            "\u001b[0;31mModuleNotFoundError\u001b[0m: No module named 'es_core_news_md'",
            "",
            "\u001b[0;31m---------------------------------------------------------------------------\u001b[0;32m\nNOTE: If your import is failing due to a missing package, you can\nmanually install dependencies using either !pip or !apt.\n\nTo view examples of installing some common dependencies, click the\n\"Open Examples\" button below.\n\u001b[0;31m---------------------------------------------------------------------------\u001b[0m\n"
          ],
          "errorDetails": {
            "actions": [
              {
                "action": "open_url",
                "actionText": "Open Examples",
                "url": "/notebooks/snippets/importing_libraries.ipynb"
              }
            ]
          }
        }
      ],
      "source": [
        "!pip install -U spacy==3.2.4\n",
        "!python -m spacy download es_core_news_md\n",
        "import numpy as np\n",
        "import pandas as pd\n",
        "import spacy\n",
        "import es_core_news_md"
      ]
    },
    {
      "cell_type": "code",
      "execution_count": null,
      "metadata": {
        "colab": {
          "base_uri": "https://localhost:8080/"
        },
        "id": "d8pu2I4vHkWJ",
        "outputId": "8ee15424-18d1-41e0-ecbe-b4876b1425c6"
      },
      "outputs": [
        {
          "output_type": "stream",
          "name": "stdout",
          "text": [
            "[('Jorge Ramos', 'PER'), ('México', 'LOC'), ('Andrés Manuel López Obrador', 'PER'), ('México', 'LOC'), ('Fracisco Quiroga', 'PER'), ('Minería', 'ORG'), ('Secretaría de Economía.\\n', 'LOC')]\n"
          ]
        }
      ],
      "source": [
        "## Cargar el modelo NER \n",
        "nlp = spacy.load(\"es_core_news_md\")\n",
        "nlp.add_pipe('sentencizer')\n",
        "\n",
        "##Texto de prueba\n",
        "text = [\n",
        "'''\n",
        "- El intercambio sobre los datos de homicidios que mantuvieron el periodista Jorge Ramos y el presidente de México, Andrés Manuel López Obrador, el mes pasado, derivó hacia una importante discusión sobre la libertad de expresión, pero a costa de opacar el tema de fondo: México atraviesa el periodo más violento de su historia moderna.\n",
        "- La inseguridad ocasionada por el crimen organizado, y que persiste en varias regiones del país, es el principal problema para la producción minera, reconoció Fracisco Quiroga, titular de Minería en la Secretaría de Economía.\n",
        "'''\n",
        "]\n",
        "\n",
        "##spaCy primero tokeniza el texto para producir un objeto Doc \n",
        "##Dentro del objeto doc encontramos doc.ents, que a la vez, \n",
        "##tiene los subatributos text label_, que indican  el texto que corresponde\n",
        "##a la entidad y la etiqueta(tipo de entidad) de la entidad \n",
        "for doc in nlp.pipe(text, disable=[\"tagger\", \"parser\"]):\n",
        "    print([(ent.text, ent.label_) for ent in doc.ents])\n"
      ]
    },
    {
      "cell_type": "code",
      "execution_count": null,
      "metadata": {
        "colab": {
          "base_uri": "https://localhost:8080/",
          "height": 192
        },
        "id": "AQ4vnjvWHfJc",
        "outputId": "257abbf6-f471-4051-efab-6a07170101ff"
      },
      "outputs": [
        {
          "output_type": "display_data",
          "data": {
            "text/plain": [
              "<IPython.core.display.HTML object>"
            ],
            "text/html": [
              "<span class=\"tex2jax_ignore\"><div class=\"entities\" style=\"line-height: 2.5; direction: ltr\"></br>- El intercambio sobre los datos de homicidios que mantuvieron el periodista \n",
              "<mark class=\"entity\" style=\"background: #ddd; padding: 0.45em 0.6em; margin: 0 0.25em; line-height: 1; border-radius: 0.35em;\">\n",
              "    Jorge Ramos\n",
              "    <span style=\"font-size: 0.8em; font-weight: bold; line-height: 1; border-radius: 0.35em; vertical-align: middle; margin-left: 0.5rem\">PER</span>\n",
              "</mark>\n",
              " y el presidente de México, \n",
              "<mark class=\"entity\" style=\"background: #ddd; padding: 0.45em 0.6em; margin: 0 0.25em; line-height: 1; border-radius: 0.35em;\">\n",
              "    Andrés Manuel López Obrador\n",
              "    <span style=\"font-size: 0.8em; font-weight: bold; line-height: 1; border-radius: 0.35em; vertical-align: middle; margin-left: 0.5rem\">PER</span>\n",
              "</mark>\n",
              ", el mes pasado, derivó hacia una importante discusión sobre la libertad de expresión, pero a costa de opacar el tema de fondo: México atraviesa el periodo más violento de su historia moderna.</br>- La inseguridad ocasionada por el crimen organizado, y que persiste en varias regiones del país, es el principal problema para la producción minera, reconoció \n",
              "<mark class=\"entity\" style=\"background: #ddd; padding: 0.45em 0.6em; margin: 0 0.25em; line-height: 1; border-radius: 0.35em;\">\n",
              "    Fracisco Quiroga\n",
              "    <span style=\"font-size: 0.8em; font-weight: bold; line-height: 1; border-radius: 0.35em; vertical-align: middle; margin-left: 0.5rem\">PER</span>\n",
              "</mark>\n",
              ", titular de \n",
              "<mark class=\"entity\" style=\"background: yellow; padding: 0.45em 0.6em; margin: 0 0.25em; line-height: 1; border-radius: 0.35em;\">\n",
              "    Minería\n",
              "    <span style=\"font-size: 0.8em; font-weight: bold; line-height: 1; border-radius: 0.35em; vertical-align: middle; margin-left: 0.5rem\">ORG</span>\n",
              "</mark>\n",
              " en la Secretaría de Economía.\n",
              "</div></span>"
            ]
          },
          "metadata": {}
        }
      ],
      "source": [
        "##Ejecutamos sp\n",
        "from spacy import displacy\n",
        "options = {\"ents\": [\"PER\", \"ORG\"],\n",
        "           \"colors\": {\"ORG\": \"yellow\"}}\n",
        "displacy.render(doc, style=\"ent\", options=options,jupyter=True)\n",
        "##Tambien lo puede generar en formato html, solo colocar ,jupyter=False\n",
        "##<svg xmlns=\"http://www.w3.org/2000/svg\" xmlns:xlink=\"http://www.w3.org/1999/xlink\" xml:lang=\"es\" \n",
        "#id=\"0764d97d62a444309e78ad65de1b49e7-0\" class=\"displacy\" width=\"750\" height=\"312.0\" direction=\"ltr\" style=\"max-width: none; height: 312.0px; \n",
        "#color: #000000; background: #ffffff; font-family: Arial; direction: ltr\">\\n<text class=\"displacy-token\" fill=\"currentColor\" text-anchor=\"middle\" \n",
        "#y=\"222.0\">\\n    <tspan class=\"displacy-word\" fill=\"currentColor\" x=\"50\">This</tspan>\\n    <tspan class=\"displacy-tag\" dy=\"2em\" fill=\"currentColor\" \n",
        "#x=\"50\">PROPN</tspan>\\n</text>\\n\\n<text class=\"displacy-token\" fill=\"currentColor\" text-anchor=\"middle\" y=\"222.0\">\\n    \n",
        "#<tspan class=\"displacy-word\" fill=\"currentColor\" x=\"225\">is</tspan>\\n    <tspan class=\"displacy-tag\" dy=\"2em\" fill=\"currentColor\" x=\"225\">\n",
        "#PROPN</tspan>\\n</text>\\n\\n<text class=\"displacy-token\" fill=\"currentColor\" text-anchor=\"middle\" y=\"222.0\">\\n    <tspan class=\"displacy-word\" fill=\"currentColor\" ..."
      ]
    },
    {
      "cell_type": "markdown",
      "metadata": {
        "id": "CR7hadrRGaLr"
      },
      "source": [
        "# Conectarse a Sandbox  o a Aura DB Neo4j\n",
        "\n",
        "Sandbox es un sitio donde me permiten alojar la base de datos y conectarme de manera remota"
      ]
    },
    {
      "cell_type": "markdown",
      "metadata": {
        "id": "pffi143LyOY3"
      },
      "source": [
        "Lo que necesitamos para conectarmos a neo4j sandbox es una \n",
        "**url bolt(uri)** y una contraseña **pasword(pwd)**"
      ]
    },
    {
      "cell_type": "code",
      "execution_count": null,
      "metadata": {
        "colab": {
          "base_uri": "https://localhost:8080/",
          "height": 1000
        },
        "id": "oIDv701NyvzK",
        "outputId": "b7d83c47-39a2-43ff-dd33-413c703c50d5"
      },
      "outputs": [
        {
          "output_type": "stream",
          "name": "stdout",
          "text": [
            "Collecting spacy==3.2.4\n",
            "  Downloading spacy-3.2.4-cp37-cp37m-manylinux_2_17_x86_64.manylinux2014_x86_64.whl (6.0 MB)\n",
            "\u001b[K     |████████████████████████████████| 6.0 MB 5.4 MB/s \n",
            "\u001b[?25hCollecting langcodes<4.0.0,>=3.2.0\n",
            "  Downloading langcodes-3.3.0-py3-none-any.whl (181 kB)\n",
            "\u001b[K     |████████████████████████████████| 181 kB 32.4 MB/s \n",
            "\u001b[?25hCollecting spacy-legacy<3.1.0,>=3.0.8\n",
            "  Downloading spacy_legacy-3.0.9-py2.py3-none-any.whl (20 kB)\n",
            "Collecting thinc<8.1.0,>=8.0.12\n",
            "  Downloading thinc-8.0.15-cp37-cp37m-manylinux_2_17_x86_64.manylinux2014_x86_64.whl (653 kB)\n",
            "\u001b[K     |████████████████████████████████| 653 kB 60.3 MB/s \n",
            "\u001b[?25hRequirement already satisfied: blis<0.8.0,>=0.4.0 in /usr/local/lib/python3.7/dist-packages (from spacy==3.2.4) (0.4.1)\n",
            "Collecting catalogue<2.1.0,>=2.0.6\n",
            "  Downloading catalogue-2.0.7-py3-none-any.whl (17 kB)\n",
            "Requirement already satisfied: packaging>=20.0 in /usr/local/lib/python3.7/dist-packages (from spacy==3.2.4) (21.3)\n",
            "Collecting typing-extensions<4.0.0.0,>=3.7.4\n",
            "  Downloading typing_extensions-3.10.0.2-py3-none-any.whl (26 kB)\n",
            "Collecting pathy>=0.3.5\n",
            "  Downloading pathy-0.6.1-py3-none-any.whl (42 kB)\n",
            "\u001b[K     |████████████████████████████████| 42 kB 1.5 MB/s \n",
            "\u001b[?25hRequirement already satisfied: click<8.1.0 in /usr/local/lib/python3.7/dist-packages (from spacy==3.2.4) (7.1.2)\n",
            "Collecting srsly<3.0.0,>=2.4.1\n",
            "  Downloading srsly-2.4.3-cp37-cp37m-manylinux_2_17_x86_64.manylinux2014_x86_64.whl (457 kB)\n",
            "\u001b[K     |████████████████████████████████| 457 kB 37.0 MB/s \n",
            "\u001b[?25hCollecting pydantic!=1.8,!=1.8.1,<1.9.0,>=1.7.4\n",
            "  Downloading pydantic-1.8.2-cp37-cp37m-manylinux2014_x86_64.whl (10.1 MB)\n",
            "\u001b[K     |████████████████████████████████| 10.1 MB 30.4 MB/s \n",
            "\u001b[?25hRequirement already satisfied: setuptools in /usr/local/lib/python3.7/dist-packages (from spacy==3.2.4) (57.4.0)\n",
            "Requirement already satisfied: murmurhash<1.1.0,>=0.28.0 in /usr/local/lib/python3.7/dist-packages (from spacy==3.2.4) (1.0.7)\n",
            "Requirement already satisfied: requests<3.0.0,>=2.13.0 in /usr/local/lib/python3.7/dist-packages (from spacy==3.2.4) (2.23.0)\n",
            "Collecting spacy-loggers<2.0.0,>=1.0.0\n",
            "  Downloading spacy_loggers-1.0.2-py3-none-any.whl (7.2 kB)\n",
            "Requirement already satisfied: preshed<3.1.0,>=3.0.2 in /usr/local/lib/python3.7/dist-packages (from spacy==3.2.4) (3.0.6)\n",
            "Requirement already satisfied: wasabi<1.1.0,>=0.8.1 in /usr/local/lib/python3.7/dist-packages (from spacy==3.2.4) (0.9.1)\n",
            "Requirement already satisfied: tqdm<5.0.0,>=4.38.0 in /usr/local/lib/python3.7/dist-packages (from spacy==3.2.4) (4.64.0)\n",
            "Requirement already satisfied: cymem<2.1.0,>=2.0.2 in /usr/local/lib/python3.7/dist-packages (from spacy==3.2.4) (2.0.6)\n",
            "Collecting typer<0.5.0,>=0.3.0\n",
            "  Downloading typer-0.4.1-py3-none-any.whl (27 kB)\n",
            "Requirement already satisfied: numpy>=1.15.0 in /usr/local/lib/python3.7/dist-packages (from spacy==3.2.4) (1.21.6)\n",
            "Requirement already satisfied: jinja2 in /usr/local/lib/python3.7/dist-packages (from spacy==3.2.4) (2.11.3)\n",
            "Requirement already satisfied: zipp>=0.5 in /usr/local/lib/python3.7/dist-packages (from catalogue<2.1.0,>=2.0.6->spacy==3.2.4) (3.8.0)\n",
            "Requirement already satisfied: pyparsing!=3.0.5,>=2.0.2 in /usr/local/lib/python3.7/dist-packages (from packaging>=20.0->spacy==3.2.4) (3.0.8)\n",
            "Collecting smart-open<6.0.0,>=5.0.0\n",
            "  Downloading smart_open-5.2.1-py3-none-any.whl (58 kB)\n",
            "\u001b[K     |████████████████████████████████| 58 kB 4.9 MB/s \n",
            "\u001b[?25hRequirement already satisfied: certifi>=2017.4.17 in /usr/local/lib/python3.7/dist-packages (from requests<3.0.0,>=2.13.0->spacy==3.2.4) (2021.10.8)\n",
            "Requirement already satisfied: urllib3!=1.25.0,!=1.25.1,<1.26,>=1.21.1 in /usr/local/lib/python3.7/dist-packages (from requests<3.0.0,>=2.13.0->spacy==3.2.4) (1.24.3)\n",
            "Requirement already satisfied: chardet<4,>=3.0.2 in /usr/local/lib/python3.7/dist-packages (from requests<3.0.0,>=2.13.0->spacy==3.2.4) (3.0.4)\n",
            "Requirement already satisfied: idna<3,>=2.5 in /usr/local/lib/python3.7/dist-packages (from requests<3.0.0,>=2.13.0->spacy==3.2.4) (2.10)\n",
            "Requirement already satisfied: MarkupSafe>=0.23 in /usr/local/lib/python3.7/dist-packages (from jinja2->spacy==3.2.4) (2.0.1)\n",
            "Installing collected packages: typing-extensions, catalogue, typer, srsly, smart-open, pydantic, thinc, spacy-loggers, spacy-legacy, pathy, langcodes, spacy\n",
            "  Attempting uninstall: typing-extensions\n",
            "    Found existing installation: typing-extensions 4.2.0\n",
            "    Uninstalling typing-extensions-4.2.0:\n",
            "      Successfully uninstalled typing-extensions-4.2.0\n",
            "  Attempting uninstall: catalogue\n",
            "    Found existing installation: catalogue 1.0.0\n",
            "    Uninstalling catalogue-1.0.0:\n",
            "      Successfully uninstalled catalogue-1.0.0\n",
            "  Attempting uninstall: srsly\n",
            "    Found existing installation: srsly 1.0.5\n",
            "    Uninstalling srsly-1.0.5:\n",
            "      Successfully uninstalled srsly-1.0.5\n",
            "  Attempting uninstall: smart-open\n",
            "    Found existing installation: smart-open 6.0.0\n",
            "    Uninstalling smart-open-6.0.0:\n",
            "      Successfully uninstalled smart-open-6.0.0\n",
            "  Attempting uninstall: thinc\n",
            "    Found existing installation: thinc 7.4.0\n",
            "    Uninstalling thinc-7.4.0:\n",
            "      Successfully uninstalled thinc-7.4.0\n",
            "  Attempting uninstall: spacy\n",
            "    Found existing installation: spacy 2.2.4\n",
            "    Uninstalling spacy-2.2.4:\n",
            "      Successfully uninstalled spacy-2.2.4\n",
            "\u001b[31mERROR: pip's dependency resolver does not currently take into account all the packages that are installed. This behaviour is the source of the following dependency conflicts.\n",
            "tensorflow 2.8.0 requires tf-estimator-nightly==2.8.0.dev2021122109, which is not installed.\u001b[0m\n",
            "Successfully installed catalogue-2.0.7 langcodes-3.3.0 pathy-0.6.1 pydantic-1.8.2 smart-open-5.2.1 spacy-3.2.4 spacy-legacy-3.0.9 spacy-loggers-1.0.2 srsly-2.4.3 thinc-8.0.15 typer-0.4.1 typing-extensions-3.10.0.2\n"
          ]
        },
        {
          "output_type": "display_data",
          "data": {
            "application/vnd.colab-display-data+json": {
              "pip_warning": {
                "packages": [
                  "catalogue",
                  "spacy",
                  "srsly",
                  "thinc",
                  "typing_extensions"
                ]
              }
            }
          },
          "metadata": {}
        },
        {
          "output_type": "stream",
          "name": "stdout",
          "text": [
            "Collecting es-core-news-md==3.2.0\n",
            "  Downloading https://github.com/explosion/spacy-models/releases/download/es_core_news_md-3.2.0/es_core_news_md-3.2.0-py3-none-any.whl (43.4 MB)\n",
            "\u001b[K     |████████████████████████████████| 43.4 MB 1.8 MB/s \n",
            "\u001b[?25hRequirement already satisfied: spacy<3.3.0,>=3.2.0 in /usr/local/lib/python3.7/dist-packages (from es-core-news-md==3.2.0) (3.2.4)\n",
            "Requirement already satisfied: langcodes<4.0.0,>=3.2.0 in /usr/local/lib/python3.7/dist-packages (from spacy<3.3.0,>=3.2.0->es-core-news-md==3.2.0) (3.3.0)\n",
            "Requirement already satisfied: preshed<3.1.0,>=3.0.2 in /usr/local/lib/python3.7/dist-packages (from spacy<3.3.0,>=3.2.0->es-core-news-md==3.2.0) (3.0.6)\n",
            "Requirement already satisfied: srsly<3.0.0,>=2.4.1 in /usr/local/lib/python3.7/dist-packages (from spacy<3.3.0,>=3.2.0->es-core-news-md==3.2.0) (2.4.3)\n",
            "Requirement already satisfied: pydantic!=1.8,!=1.8.1,<1.9.0,>=1.7.4 in /usr/local/lib/python3.7/dist-packages (from spacy<3.3.0,>=3.2.0->es-core-news-md==3.2.0) (1.8.2)\n",
            "Requirement already satisfied: cymem<2.1.0,>=2.0.2 in /usr/local/lib/python3.7/dist-packages (from spacy<3.3.0,>=3.2.0->es-core-news-md==3.2.0) (2.0.6)\n",
            "Requirement already satisfied: click<8.1.0 in /usr/local/lib/python3.7/dist-packages (from spacy<3.3.0,>=3.2.0->es-core-news-md==3.2.0) (7.1.2)\n",
            "Requirement already satisfied: typing-extensions<4.0.0.0,>=3.7.4 in /usr/local/lib/python3.7/dist-packages (from spacy<3.3.0,>=3.2.0->es-core-news-md==3.2.0) (3.10.0.2)\n",
            "Requirement already satisfied: blis<0.8.0,>=0.4.0 in /usr/local/lib/python3.7/dist-packages (from spacy<3.3.0,>=3.2.0->es-core-news-md==3.2.0) (0.4.1)\n",
            "Requirement already satisfied: typer<0.5.0,>=0.3.0 in /usr/local/lib/python3.7/dist-packages (from spacy<3.3.0,>=3.2.0->es-core-news-md==3.2.0) (0.4.1)\n",
            "Requirement already satisfied: spacy-loggers<2.0.0,>=1.0.0 in /usr/local/lib/python3.7/dist-packages (from spacy<3.3.0,>=3.2.0->es-core-news-md==3.2.0) (1.0.2)\n",
            "Requirement already satisfied: spacy-legacy<3.1.0,>=3.0.8 in /usr/local/lib/python3.7/dist-packages (from spacy<3.3.0,>=3.2.0->es-core-news-md==3.2.0) (3.0.9)\n",
            "Requirement already satisfied: catalogue<2.1.0,>=2.0.6 in /usr/local/lib/python3.7/dist-packages (from spacy<3.3.0,>=3.2.0->es-core-news-md==3.2.0) (2.0.7)\n",
            "Requirement already satisfied: setuptools in /usr/local/lib/python3.7/dist-packages (from spacy<3.3.0,>=3.2.0->es-core-news-md==3.2.0) (57.4.0)\n",
            "Requirement already satisfied: tqdm<5.0.0,>=4.38.0 in /usr/local/lib/python3.7/dist-packages (from spacy<3.3.0,>=3.2.0->es-core-news-md==3.2.0) (4.64.0)\n",
            "Requirement already satisfied: pathy>=0.3.5 in /usr/local/lib/python3.7/dist-packages (from spacy<3.3.0,>=3.2.0->es-core-news-md==3.2.0) (0.6.1)\n",
            "Requirement already satisfied: jinja2 in /usr/local/lib/python3.7/dist-packages (from spacy<3.3.0,>=3.2.0->es-core-news-md==3.2.0) (2.11.3)\n",
            "Requirement already satisfied: murmurhash<1.1.0,>=0.28.0 in /usr/local/lib/python3.7/dist-packages (from spacy<3.3.0,>=3.2.0->es-core-news-md==3.2.0) (1.0.7)\n",
            "Requirement already satisfied: numpy>=1.15.0 in /usr/local/lib/python3.7/dist-packages (from spacy<3.3.0,>=3.2.0->es-core-news-md==3.2.0) (1.21.6)\n",
            "Requirement already satisfied: requests<3.0.0,>=2.13.0 in /usr/local/lib/python3.7/dist-packages (from spacy<3.3.0,>=3.2.0->es-core-news-md==3.2.0) (2.23.0)\n",
            "Requirement already satisfied: thinc<8.1.0,>=8.0.12 in /usr/local/lib/python3.7/dist-packages (from spacy<3.3.0,>=3.2.0->es-core-news-md==3.2.0) (8.0.15)\n",
            "Requirement already satisfied: wasabi<1.1.0,>=0.8.1 in /usr/local/lib/python3.7/dist-packages (from spacy<3.3.0,>=3.2.0->es-core-news-md==3.2.0) (0.9.1)\n",
            "Requirement already satisfied: packaging>=20.0 in /usr/local/lib/python3.7/dist-packages (from spacy<3.3.0,>=3.2.0->es-core-news-md==3.2.0) (21.3)\n",
            "Requirement already satisfied: zipp>=0.5 in /usr/local/lib/python3.7/dist-packages (from catalogue<2.1.0,>=2.0.6->spacy<3.3.0,>=3.2.0->es-core-news-md==3.2.0) (3.8.0)\n",
            "Requirement already satisfied: pyparsing!=3.0.5,>=2.0.2 in /usr/local/lib/python3.7/dist-packages (from packaging>=20.0->spacy<3.3.0,>=3.2.0->es-core-news-md==3.2.0) (3.0.8)\n",
            "Requirement already satisfied: smart-open<6.0.0,>=5.0.0 in /usr/local/lib/python3.7/dist-packages (from pathy>=0.3.5->spacy<3.3.0,>=3.2.0->es-core-news-md==3.2.0) (5.2.1)\n",
            "Requirement already satisfied: chardet<4,>=3.0.2 in /usr/local/lib/python3.7/dist-packages (from requests<3.0.0,>=2.13.0->spacy<3.3.0,>=3.2.0->es-core-news-md==3.2.0) (3.0.4)\n",
            "Requirement already satisfied: idna<3,>=2.5 in /usr/local/lib/python3.7/dist-packages (from requests<3.0.0,>=2.13.0->spacy<3.3.0,>=3.2.0->es-core-news-md==3.2.0) (2.10)\n",
            "Requirement already satisfied: urllib3!=1.25.0,!=1.25.1,<1.26,>=1.21.1 in /usr/local/lib/python3.7/dist-packages (from requests<3.0.0,>=2.13.0->spacy<3.3.0,>=3.2.0->es-core-news-md==3.2.0) (1.24.3)\n",
            "Requirement already satisfied: certifi>=2017.4.17 in /usr/local/lib/python3.7/dist-packages (from requests<3.0.0,>=2.13.0->spacy<3.3.0,>=3.2.0->es-core-news-md==3.2.0) (2021.10.8)\n",
            "Requirement already satisfied: MarkupSafe>=0.23 in /usr/local/lib/python3.7/dist-packages (from jinja2->spacy<3.3.0,>=3.2.0->es-core-news-md==3.2.0) (2.0.1)\n",
            "Installing collected packages: es-core-news-md\n",
            "Successfully installed es-core-news-md-3.2.0\n",
            "\u001b[38;5;2m✔ Download and installation successful\u001b[0m\n",
            "You can now load the package via spacy.load('es_core_news_md')\n",
            "Collecting py2neo\n",
            "  Downloading py2neo-2021.2.3-py2.py3-none-any.whl (177 kB)\n",
            "\u001b[K     |████████████████████████████████| 177 kB 5.3 MB/s \n",
            "\u001b[?25hRequirement already satisfied: certifi in /usr/local/lib/python3.7/dist-packages (from py2neo) (2021.10.8)\n",
            "Collecting monotonic\n",
            "  Downloading monotonic-1.6-py2.py3-none-any.whl (8.2 kB)\n",
            "Collecting pansi>=2020.7.3\n",
            "  Downloading pansi-2020.7.3-py2.py3-none-any.whl (10 kB)\n",
            "Requirement already satisfied: pygments>=2.0.0 in /usr/local/lib/python3.7/dist-packages (from py2neo) (2.6.1)\n",
            "Requirement already satisfied: urllib3 in /usr/local/lib/python3.7/dist-packages (from py2neo) (1.24.3)\n",
            "Collecting interchange~=2021.0.4\n",
            "  Downloading interchange-2021.0.4-py2.py3-none-any.whl (28 kB)\n",
            "Requirement already satisfied: six>=1.15.0 in /usr/local/lib/python3.7/dist-packages (from py2neo) (1.15.0)\n",
            "Requirement already satisfied: packaging in /usr/local/lib/python3.7/dist-packages (from py2neo) (21.3)\n",
            "Requirement already satisfied: pytz in /usr/local/lib/python3.7/dist-packages (from interchange~=2021.0.4->py2neo) (2022.1)\n",
            "Requirement already satisfied: pyparsing!=3.0.5,>=2.0.2 in /usr/local/lib/python3.7/dist-packages (from packaging->py2neo) (3.0.8)\n",
            "Installing collected packages: pansi, monotonic, interchange, py2neo\n",
            "Successfully installed interchange-2021.0.4 monotonic-1.6 pansi-2020.7.3 py2neo-2021.2.3\n",
            "Requirement already satisfied: neo4j in /root/.local/lib/python3.7/site-packages (4.4.3)\n",
            "Requirement already satisfied: pytz in /usr/local/lib/python3.7/dist-packages (from neo4j) (2022.1)\n"
          ]
        }
      ],
      "source": [
        "!pip install -U spacy==3.2.4\n",
        "!python -m spacy download es_core_news_md\n",
        "!pip install py2neo\n",
        "!pip install neo4j\n",
        "import numpy as np\n",
        "import pandas as pd\n",
        "import spacy\n",
        "import es_core_news_md\n",
        "import time"
      ]
    },
    {
      "cell_type": "code",
      "execution_count": null,
      "metadata": {
        "id": "dxAC5-JpGZwX"
      },
      "outputs": [],
      "source": [
        "### Conectar a Neo4jSandbox, Dura 3 dias la base de datos\n",
        "from py2neo import Graph, Node, Relationship\n",
        "url = \"bolt://35.171.154.129:7687\"\n",
        "pwd = \"stroke-relay-traffic\"\n",
        "graph = Graph(url,auth=(\"neo4j\",pwd))\n",
        "##<Cuidado>, esto elimina la base de datos en neo4j\n",
        "#graph.delete_all()"
      ]
    },
    {
      "cell_type": "code",
      "execution_count": null,
      "metadata": {
        "id": "PijAdqCRvd1g"
      },
      "outputs": [],
      "source": [
        "##Conectar a Neo4j Aura db, Una base de datos en la prueba gratuira, Expiracion: Indefinido todavia\n",
        "from py2neo import Graph, Node, Relationship\n",
        "url = \"neo4j+s://145533a5.databases.neo4j.io\"\n",
        "pwd = \"aF07ZbB2Mbbh1ncWRK0Uz3lmICtIv9bMw8VtKzVd5cw\"\n",
        "graph = Graph(url,auth=(\"neo4j\",pwd))\n",
        "##<Cuidado>, esto elimina la base de datos en neo4j\n",
        "#graph.delete_all()"
      ]
    },
    {
      "cell_type": "markdown",
      "metadata": {
        "id": "ty6MyzRGexZA"
      },
      "source": [
        "# Establecida la conexion crear una base de datos en Neo4j"
      ]
    },
    {
      "cell_type": "code",
      "execution_count": null,
      "metadata": {
        "colab": {
          "base_uri": "https://localhost:8080/"
        },
        "id": "8DzwB7eRGZyU",
        "outputId": "ca417398-143a-4253-ff9a-6f7c295f0ba1"
      },
      "outputs": [
        {
          "output_type": "stream",
          "name": "stdout",
          "text": [
            "tiempo de ejecucion en segundos:  24.233685731887817\n"
          ]
        }
      ],
      "source": [
        "### Preprocesamiento de noticias\n",
        "#- Eliminar noticias dañadas en el corpus\n",
        "\n",
        "inicio = time.time()\n",
        "##Lectura de la base de datos\n",
        "df=pd.read_excel('/content/drive/MyDrive/estancia_preprofesional/CIMAT_ESTANCIA.xlsx')  #Shape(13896, 13)\n",
        "df=df[df['Nota'].notnull()]             # 13,884 Noticias\n",
        "df=df[df['Riesgo'].notnull()]           # 13,884 Noticias\n",
        "##Filtrando df\n",
        "df_riesgo = df[df['Riesgo']=='Security']\n",
        "df_notas = df_riesgo['Nota']\n",
        "\n",
        "##Carga de modelo\n",
        "import es_core_news_md\n",
        "#nlp = spacy.load(\"es_core_news_md\")\n",
        "nlp = spacy.load(\"/content/drive/MyDrive/modelos_estancia/model-best\", disable = ['parser', 'tagger'])\n",
        "nlp.add_pipe('sentencizer')\n",
        "\n",
        "#filtro para elegir, las entidades de interes\n",
        "##Notas: Estas entidades estan asociadas al modelo del modelo por defecto en Spacy\n",
        "#entidades= ['PER','LOC','ORG','MISC'] \n",
        "##Notas: Estas entidades estan asociadas al modelo creado por nosotros\n",
        "entidades= ['PERSONAS','LOCACIONES','ORGANIZACIONES','OTROS','PUESTOSDETRABAJO'] \n",
        "#########################################\n",
        "tipo_entidades = [] \n",
        "entities = []   \n",
        "for article in df_notas[::-1][:100]:\n",
        "    tokens = nlp(''.join(article))\n",
        "    gpe_list = []\n",
        "    ent_list = []\n",
        "    for ent in tokens.ents:\n",
        "      if ent.label_ in entidades:\n",
        "          gpe_list.append(ent.text)\n",
        "          ent_list.append(ent.label_)\n",
        "    entities.append(gpe_list)\n",
        "    tipo_entidades.append(ent_list)    \n",
        "\n",
        "\n",
        "articulos = []\n",
        "    #Limpiar tokens con palabras mal identificadas, stopwords y otros tokens\n",
        "    #que no son de nuestro interes\n",
        "for entity_list in entities:\n",
        "    cleaned_entity_list = []\n",
        "    for entity in entity_list:\n",
        "      a=(entity.lstrip('Los').replace(\"'s\", \"\").replace(\"’s\",\"\"))\n",
        "      b=a.replace(\"Respecto\", \"\").replace(\"¡Basta\", \"\").replace(\"“\", \"\")\n",
        "      c=b.lstrip('').replace('Comentó',\"\")\n",
        "      cleaned_entity_list.append(c)\n",
        "    articulos.append(cleaned_entity_list)    \n",
        "\n",
        "    ## Despues de ello, podrian quedarnos algunas noticias vacias\n",
        "    ## Filtrar noticias vacias\n",
        "articulos_tipo_entidades = [tipo_entidades[i] for i,article in enumerate(articulos) if article != []]\n",
        "articulos = [article for article in articulos if article != []]\n",
        "\n",
        "articulos_stopwords = []\n",
        "articulos_tipo_entidades_stopwords = []\n",
        "    ##No solo nos pudieran quedar noticias vacias, sino tambien noticias que tengan tokens del tipo: ''\n",
        "    ##estos tokens no aportan informacion por lo que son removidos\n",
        "for contador_1 , i in enumerate(articulos):\n",
        "  noticiai = []\n",
        "  entidadesi = []\n",
        "  for contador_2, j in enumerate(i):\n",
        "    if j !='':\n",
        "      noticiai.append(j)\n",
        "      entidadesi.append(articulos_tipo_entidades[contador_1][contador_2])\n",
        "  articulos_stopwords.append(noticiai)\n",
        "  articulos_tipo_entidades_stopwords.append(entidadesi)\n",
        "graph.delete_all()\n",
        "##Codigo que nos permite \n",
        "##establecer las relaciones implicitas entre entidades\n",
        "for c ,entities in enumerate(articulos_stopwords):   ##para cada noticia\n",
        "    if len(entities) >3:\n",
        "        for i in range(len(entities)-1):             ##para cada entidad en la noticia\n",
        "          a = Node(articulos_tipo_entidades_stopwords[c][i],name=str(entities[i]) ,\n",
        "                   municipio='zapopan',fecha='11/10/20')              ##crear un nodo \n",
        "          b = Node(articulos_tipo_entidades_stopwords[c][i+1],name=str(entities[i+1]),\n",
        "                   municipio= 'guadalajara',fecha='11/10/20')       ##crear un nodo con ciertos atributos\n",
        "          ab=Relationship(a,'r-implicita',b)                        ##establecer la relacion entre los nodos\n",
        "          graph.create(ab)                                                                                          \n",
        "graph.query(\"MATCH (n) WITH toLower(n.name) as name, collect(n) as nodes CALL apoc.refactor.mergeNodes(nodes) yield node RETURN *\")\n",
        "graph.query(\"match ()-[r]->()  match (s)-[r]->(e)  with s,e,type(r) as typ, tail(collect(r)) as coll  foreach(x in coll | delete x)\")\n",
        "final = time.time()\n",
        "print('tiempo de ejecucion en segundos: ' ,final-inicio)"
      ]
    },
    {
      "cell_type": "code",
      "execution_count": null,
      "metadata": {
        "colab": {
          "base_uri": "https://localhost:8080/",
          "height": 122
        },
        "id": "szT10XssxDE4",
        "outputId": "d4607358-5c9e-4d88-f4bb-f40ac2ffd9db"
      },
      "outputs": [
        {
          "data": {
            "text/html": [
              "<table><tr><th>name</th><th>node</th><th>nodes</th></tr><tr><td style=\"text-align:left\">yucatán</td><td style=\"text-align:left\">(_0:LOCACIONES {fecha: &#039;11/10/20&#039;, municipio: &#039;zapopan&#039;, name: &#039;Yucat\\u00e1n&#039;})</td><td style=\"text-align:left\">[(_0:LOCACIONES {fecha: &#039;11/10/20&#039;, municipio: &#039;zapopan&#039;, name: &#039;Yucat\\u00e1n&#039;}), (_845 {}), (_846 {}), (_2915 {}), (_4717 {}), (_4718 {})]</td></tr><tr><td style=\"text-align:left\">nayarit</td><td style=\"text-align:left\">(_1:LOCACIONES {fecha: &#039;11/10/20&#039;, municipio: &#039;zapopan&#039;, name: &#039;Nayarit&#039;})</td><td style=\"text-align:left\">[(_1:LOCACIONES {fecha: &#039;11/10/20&#039;, municipio: &#039;zapopan&#039;, name: &#039;Nayarit&#039;}), (_2 {}), (_855 {}), (_856 {}), (_2877 {}), (_2878 {})]</td></tr><tr><td style=\"text-align:left\">tlaxcala</td><td style=\"text-align:left\">(_3:LOCACIONES {fecha: &#039;11/10/20&#039;, municipio: &#039;zapopan&#039;, name: &#039;Tlaxcala&#039;})</td><td style=\"text-align:left\">[(_3:LOCACIONES {fecha: &#039;11/10/20&#039;, municipio: &#039;zapopan&#039;, name: &#039;Tlaxcala&#039;}), (_4 {}), (_847 {}), (_848 {})]</td></tr></table>"
            ],
            "text/plain": [
              " name     | node                                                                            | nodes                                                                                                                                       \n",
              "----------|---------------------------------------------------------------------------------|---------------------------------------------------------------------------------------------------------------------------------------------\n",
              " yucatán  | (_0:LOCACIONES {fecha: '11/10/20', municipio: 'zapopan', name: 'Yucat\\u00e1n'}) | [(_0:LOCACIONES {fecha: '11/10/20', municipio: 'zapopan', name: 'Yucat\\u00e1n'}), (_845 {}), (_846 {}), (_2915 {}), (_4717 {}), (_4718 {})] \n",
              " nayarit  | (_1:LOCACIONES {fecha: '11/10/20', municipio: 'zapopan', name: 'Nayarit'})      | [(_1:LOCACIONES {fecha: '11/10/20', municipio: 'zapopan', name: 'Nayarit'}), (_2 {}), (_855 {}), (_856 {}), (_2877 {}), (_2878 {})]         \n",
              " tlaxcala | (_3:LOCACIONES {fecha: '11/10/20', municipio: 'zapopan', name: 'Tlaxcala'})     | [(_3:LOCACIONES {fecha: '11/10/20', municipio: 'zapopan', name: 'Tlaxcala'}), (_4 {}), (_847 {}), (_848 {})]                                "
            ]
          },
          "execution_count": 33,
          "metadata": {},
          "output_type": "execute_result"
        }
      ],
      "source": [
        "###Medidas de rendimiento\n",
        "#100 Noticias  24  seg\n",
        "#500 Noticias  324 seg\n",
        "#1000 Noticias 562 seg\n",
        "#1500 Noticias 802 seg\n",
        "##Paswword aF07ZbB2Mbbh1ncWRK0Uz3lmICtIv9bMw8VtKzVd5cw"
      ]
    },
    {
      "cell_type": "markdown",
      "metadata": {
        "id": "2cB8LSaj9oxp"
      },
      "source": [
        "Para este punto notaremos que en neo4j, hay ciertos nodos que estan relacionados, pero si aun no estan conectados.\n",
        "\n",
        "Si no estan unidos, es necesario usar lenguaje de consulta Cypher (Cypher Query Language), notese que el codigo ya está incluido  como solicitud de consulta lineas arriba.\n",
        "\n",
        "```\n",
        "MATCH (n)\n",
        "// using toLower function to group nodes with the same name but \n",
        "// different cases (eg Java, java, javA)\n",
        "WITH toLower(n.name) as name, collect(n) as nodes\n",
        "// passing the nodes collection to mergeNodes APOC procedure\n",
        "CALL apoc.refactor.mergeNodes(nodes) yield node\n",
        "RETURN *\n",
        "```\n",
        "\n"
      ]
    },
    {
      "cell_type": "markdown",
      "source": [
        "# Funcion solicitada en formato.py\n",
        "\n",
        "Dicha funcion se anexa en el archivo crear_grafo_de_conocimiento.py."
      ],
      "metadata": {
        "id": "LWkwfPGyZnpV"
      }
    },
    {
      "cell_type": "markdown",
      "source": [
        "# ANEXO"
      ],
      "metadata": {
        "id": "7CMuktgabnJ5"
      }
    },
    {
      "cell_type": "markdown",
      "source": [
        "## Como visualizar en un jupiter Notebook"
      ],
      "metadata": {
        "id": "BZ4z0H4BPFDa"
      }
    },
    {
      "cell_type": "code",
      "source": [
        "!pip install neo4jupyter"
      ],
      "metadata": {
        "colab": {
          "base_uri": "https://localhost:8080/"
        },
        "id": "LaOc6o_SPOT9",
        "outputId": "474e909c-25a3-4afe-d3a7-d33b76048013"
      },
      "execution_count": null,
      "outputs": [
        {
          "output_type": "stream",
          "name": "stdout",
          "text": [
            "Collecting neo4jupyter\n",
            "  Downloading neo4jupyter-0.2.0.tar.gz (3.8 kB)\n",
            "Requirement already satisfied: IPython>=4.0.0 in /usr/local/lib/python3.7/dist-packages (from neo4jupyter) (5.5.0)\n",
            "Collecting ipython-cypher>=0.2.4\n",
            "  Downloading ipython-cypher-0.2.6.tar.gz (13 kB)\n",
            "Collecting py2neo\n",
            "  Downloading py2neo-2021.2.3-py2.py3-none-any.whl (177 kB)\n",
            "\u001b[K     |████████████████████████████████| 177 kB 8.2 MB/s \n",
            "\u001b[?25hRequirement already satisfied: pickleshare in /usr/local/lib/python3.7/dist-packages (from IPython>=4.0.0->neo4jupyter) (0.7.5)\n",
            "Requirement already satisfied: prompt-toolkit<2.0.0,>=1.0.4 in /usr/local/lib/python3.7/dist-packages (from IPython>=4.0.0->neo4jupyter) (1.0.18)\n",
            "Requirement already satisfied: simplegeneric>0.8 in /usr/local/lib/python3.7/dist-packages (from IPython>=4.0.0->neo4jupyter) (0.8.1)\n",
            "Requirement already satisfied: pygments in /usr/local/lib/python3.7/dist-packages (from IPython>=4.0.0->neo4jupyter) (2.6.1)\n",
            "Requirement already satisfied: decorator in /usr/local/lib/python3.7/dist-packages (from IPython>=4.0.0->neo4jupyter) (4.4.2)\n",
            "Requirement already satisfied: setuptools>=18.5 in /usr/local/lib/python3.7/dist-packages (from IPython>=4.0.0->neo4jupyter) (57.4.0)\n",
            "Requirement already satisfied: traitlets>=4.2 in /usr/local/lib/python3.7/dist-packages (from IPython>=4.0.0->neo4jupyter) (5.1.1)\n",
            "Requirement already satisfied: pexpect in /usr/local/lib/python3.7/dist-packages (from IPython>=4.0.0->neo4jupyter) (4.8.0)\n",
            "Collecting neo4jrestclient>=2.1.0\n",
            "  Downloading neo4jrestclient-2.1.1.tar.gz (73 kB)\n",
            "\u001b[K     |████████████████████████████████| 73 kB 1.6 MB/s \n",
            "\u001b[?25hRequirement already satisfied: prettytable in /usr/local/lib/python3.7/dist-packages (from ipython-cypher>=0.2.4->neo4jupyter) (3.2.0)\n",
            "Requirement already satisfied: requests>=2.1.0 in /usr/local/lib/python3.7/dist-packages (from neo4jrestclient>=2.1.0->ipython-cypher>=0.2.4->neo4jupyter) (2.23.0)\n",
            "Requirement already satisfied: six>=1.9.0 in /usr/local/lib/python3.7/dist-packages (from prompt-toolkit<2.0.0,>=1.0.4->IPython>=4.0.0->neo4jupyter) (1.15.0)\n",
            "Requirement already satisfied: wcwidth in /usr/local/lib/python3.7/dist-packages (from prompt-toolkit<2.0.0,>=1.0.4->IPython>=4.0.0->neo4jupyter) (0.2.5)\n",
            "Requirement already satisfied: chardet<4,>=3.0.2 in /usr/local/lib/python3.7/dist-packages (from requests>=2.1.0->neo4jrestclient>=2.1.0->ipython-cypher>=0.2.4->neo4jupyter) (3.0.4)\n",
            "Requirement already satisfied: urllib3!=1.25.0,!=1.25.1,<1.26,>=1.21.1 in /usr/local/lib/python3.7/dist-packages (from requests>=2.1.0->neo4jrestclient>=2.1.0->ipython-cypher>=0.2.4->neo4jupyter) (1.24.3)\n",
            "Requirement already satisfied: idna<3,>=2.5 in /usr/local/lib/python3.7/dist-packages (from requests>=2.1.0->neo4jrestclient>=2.1.0->ipython-cypher>=0.2.4->neo4jupyter) (2.10)\n",
            "Requirement already satisfied: certifi>=2017.4.17 in /usr/local/lib/python3.7/dist-packages (from requests>=2.1.0->neo4jrestclient>=2.1.0->ipython-cypher>=0.2.4->neo4jupyter) (2021.10.8)\n",
            "Requirement already satisfied: ptyprocess>=0.5 in /usr/local/lib/python3.7/dist-packages (from pexpect->IPython>=4.0.0->neo4jupyter) (0.7.0)\n",
            "Requirement already satisfied: importlib-metadata in /usr/local/lib/python3.7/dist-packages (from prettytable->ipython-cypher>=0.2.4->neo4jupyter) (4.11.3)\n",
            "Requirement already satisfied: zipp>=0.5 in /usr/local/lib/python3.7/dist-packages (from importlib-metadata->prettytable->ipython-cypher>=0.2.4->neo4jupyter) (3.8.0)\n",
            "Requirement already satisfied: typing-extensions>=3.6.4 in /usr/local/lib/python3.7/dist-packages (from importlib-metadata->prettytable->ipython-cypher>=0.2.4->neo4jupyter) (4.2.0)\n",
            "Collecting interchange~=2021.0.4\n",
            "  Downloading interchange-2021.0.4-py2.py3-none-any.whl (28 kB)\n",
            "Collecting pansi>=2020.7.3\n",
            "  Downloading pansi-2020.7.3-py2.py3-none-any.whl (10 kB)\n",
            "Collecting monotonic\n",
            "  Downloading monotonic-1.6-py2.py3-none-any.whl (8.2 kB)\n",
            "Requirement already satisfied: packaging in /usr/local/lib/python3.7/dist-packages (from py2neo->neo4jupyter) (21.3)\n",
            "Requirement already satisfied: pytz in /usr/local/lib/python3.7/dist-packages (from interchange~=2021.0.4->py2neo->neo4jupyter) (2022.1)\n",
            "Requirement already satisfied: pyparsing!=3.0.5,>=2.0.2 in /usr/local/lib/python3.7/dist-packages (from packaging->py2neo->neo4jupyter) (3.0.8)\n",
            "Building wheels for collected packages: neo4jupyter, ipython-cypher, neo4jrestclient\n",
            "  Building wheel for neo4jupyter (setup.py) ... \u001b[?25l\u001b[?25hdone\n",
            "  Created wheel for neo4jupyter: filename=neo4jupyter-0.2.0-py3-none-any.whl size=3869 sha256=1c6901ec4897e838a87cba42a198a1f92b86d693cb19849f5d06b05d761f9225\n",
            "  Stored in directory: /root/.cache/pip/wheels/98/e6/6e/04e4ab08495bd0e2bfeb0083436a6040c49f262c17d6345b2b\n",
            "  Building wheel for ipython-cypher (setup.py) ... \u001b[?25l\u001b[?25hdone\n",
            "  Created wheel for ipython-cypher: filename=ipython_cypher-0.2.6-py3-none-any.whl size=13272 sha256=24b4162e6c58b886c86f6f72fb43a04e1ff2f42a7857da58e05b9db3c5019417\n",
            "  Stored in directory: /root/.cache/pip/wheels/d9/ff/09/e790f902f0013f5479cf2b9288013d2b36f41da1877c7d4df2\n",
            "  Building wheel for neo4jrestclient (setup.py) ... \u001b[?25l\u001b[?25hdone\n",
            "  Created wheel for neo4jrestclient: filename=neo4jrestclient-2.1.1-py2.py3-none-any.whl size=78563 sha256=4f0860d643e708eded61409c1f3a72f3275e0712598b6b29735518748e65d765\n",
            "  Stored in directory: /root/.cache/pip/wheels/4d/39/cd/03fa156cb423361fa55a1f69d711d152eb6f3ce902a324059e\n",
            "Successfully built neo4jupyter ipython-cypher neo4jrestclient\n",
            "Installing collected packages: pansi, neo4jrestclient, monotonic, interchange, py2neo, ipython-cypher, neo4jupyter\n",
            "Successfully installed interchange-2021.0.4 ipython-cypher-0.2.6 monotonic-1.6 neo4jrestclient-2.1.1 neo4jupyter-0.2.0 pansi-2020.7.3 py2neo-2021.2.3\n"
          ]
        }
      ]
    },
    {
      "cell_type": "code",
      "execution_count": null,
      "metadata": {
        "id": "qB04zwd07cBm",
        "colab": {
          "base_uri": "https://localhost:8080/",
          "height": 417
        },
        "outputId": "93343135-b0b6-481e-b065-2324f2dcbd53"
      },
      "outputs": [
        {
          "output_type": "display_data",
          "data": {
            "text/plain": [
              "<IPython.core.display.Javascript object>"
            ],
            "application/javascript": [
              "$(\"head\").append($(\"<link/>\").attr({\n",
              "  rel:  \"stylesheet\",\n",
              "  type: \"text/css\",\n",
              "  href: \"https://cdnjs.cloudflare.com/ajax/libs/vis/4.8.2/vis.css\"\n",
              "}));\n",
              "require.config({     paths: {         vis: '//cdnjs.cloudflare.com/ajax/libs/vis/4.8.2/vis.min'     } }); require(['vis'], function(vis) {  window.vis = vis; }); "
            ]
          },
          "metadata": {}
        },
        {
          "output_type": "execute_result",
          "data": {
            "text/plain": [
              "<IPython.core.display.HTML object>"
            ],
            "text/html": [
              "<div id=\"cbd86a3b-59ef-46e5-9acb-6139707b905b\" style=\"height: 400px;\"></div>\n",
              "\n",
              "<script type=\"text/javascript\">\n",
              "\n",
              "    var nodes = [{\"id\": 865, \"label\": \"Santa Ana-\\u00cdmuris\", \"group\": \"LOC\", \"title\": \"Node('LOC', fecha='11/10/20', municipio='zapopan', name='Santa Ana-\\u00cdmuris')\"}, {\"id\": 876, \"label\": \"\", \"group\": \"MISC\", \"title\": \"Node('MISC', fecha='11/10/20', municipio='guadalajara', name='Caborca-Sonoyta.')\"}, {\"id\": 5484, \"label\": \"ENVCL\", \"group\": \"LOC\", \"title\": \"Node('LOC', fecha='11/10/20', municipio='zapopan', name='ENVCL')\"}, {\"id\": 5488, \"label\": \"Irapuato\", \"group\": \"LOC\", \"title\": \"Node('LOC', 'PER', fecha='11/10/20', municipio='zapopan', name='Irapuato')\"}, {\"id\": 2926, \"label\": \"Joaqu\\u00edn el Chapo\\u201d Guzm\\u00e1n.\", \"group\": \"PER\", \"title\": \"Node('PER', fecha='11/10/20', municipio='zapopan', name='Joaqu\\u00edn el Chapo\\u201d Guzm\\u00e1n.')\"}, {\"id\": 2931, \"label\": \"\", \"group\": \"MISC\", \"title\": \"Node('MISC', fecha='11/10/20', municipio='zapopan', name='a informaci\\u00f3n oficial')\"}, {\"id\": 5975, \"label\": \"\", \"group\": \"MISC\", \"title\": \"Node('MISC', fecha='11/10/20', municipio='zapopan', name='Si alguien')\"}, {\"id\": 5977, \"label\": \"\", \"group\": \"MISC\", \"title\": \"Node('MISC', fecha='11/10/20', municipio='zapopan', name='El alcalde de Caborca')\"}, {\"id\": 4253, \"label\": \"Observatorio por la Paz\", \"group\": \"LOC\", \"title\": \"Node('LOC', fecha='11/10/20', municipio='zapopan', name='Observatorio por la Paz')\"}, {\"id\": 4273, \"label\": \"\", \"group\": \"MISC\", \"title\": \"Node('MISC', fecha='11/10/20', municipio='zapopan', name='Desarrollo de la Sierra de Guerrero')\"}, {\"id\": 2971, \"label\": \"\", \"group\": \"ORG\", \"title\": \"Node('ORG', fecha='11/10/20', municipio='zapopan', name='a Unidad de Inteligencia Financiera')\"}, {\"id\": 2985, \"label\": \"\", \"group\": \"ORG\", \"title\": \"Node('ORG', fecha='11/10/20', municipio='zapopan', name='UIF')\"}, {\"id\": 5655, \"label\": \"Mesa de Seguridad para la Construcci\\u00f3n de la Paz\", \"group\": \"LOC\", \"title\": \"Node('LOC', fecha='11/10/20', municipio='guadalajara', name='Mesa de Seguridad para la Construcci\\u00f3n de la Paz')\"}, {\"id\": 412, \"label\": \"C\\u00e1rtel de Sinaloa\", \"group\": \"LOC\", \"title\": \"Node('LOC', fecha='11/10/20', municipio='zapopan', name='C\\u00e1rtel de Sinaloa')\"}, {\"id\": 226, \"label\": \"Sonora.\", \"group\": \"LOC\", \"title\": \"Node('LOC', fecha='11/10/20', municipio='zapopan', name='Sonora.')\"}, {\"id\": 4364, \"label\": \" Zetas\", \"group\": \"LOC\", \"title\": \"Node('LOC', fecha='11/10/20', municipio='zapopan', name=' Zetas')\"}, {\"id\": 415, \"label\": \"Joaqu\\u00edn \\\"El Chapo\\\" Guzm\\u00e1n\", \"group\": \"PER\", \"title\": \"Node('PER', fecha='11/10/20', municipio='guadalajara', name='Joaqu\\u00edn \\\"El Chapo\\\" Guzm\\u00e1n')\"}, {\"id\": 3501, \"label\": \"\", \"group\": \"ORG\", \"title\": \"Node('ORG', fecha='11/10/20', municipio='zapopan', name='Chapitos\\u2019')\"}, {\"id\": 676, \"label\": \"estado de Guanajuato\", \"group\": \"LOC\", \"title\": \"Node('LOC', fecha='11/10/20', municipio='zapopan', name='estado de Guanajuato')\"}, {\"id\": 218, \"label\": \"M\\u00e9xico\", \"group\": \"LOC\", \"title\": \"Node('LOC', 'PER', fecha='11/10/20', municipio='zapopan', name='M\\u00e9xico')\"}, {\"id\": 5734, \"label\": \"\", \"group\": \"MISC\", \"title\": \"Node('MISC', fecha='11/10/20', municipio='zapopan', name='Resultado del trabajo de investigaci\\u00f3n encabezado')\"}, {\"id\": 1745, \"label\": \"Salvatierra\", \"group\": \"LOC\", \"title\": \"Node('LOC', fecha='11/10/20', municipio='zapopan', name='Salvatierra')\"}, {\"id\": 5402, \"label\": \"\", \"group\": \"MISC\", \"title\": \"Node('MISC', fecha='11/10/20', municipio='guadalajara', name='Entidad')\"}, {\"id\": 3671, \"label\": \"Sol\", \"group\": \"LOC\", \"title\": \"Node('LOC', fecha='11/10/20', municipio='zapopan', name='Sol')\"}, {\"id\": 3693, \"label\": \"templo de Pueblo Viejo\", \"group\": \"LOC\", \"title\": \"Node('LOC', fecha='11/10/20', municipio='guadalajara', name='templo de Pueblo Viejo')\"}, {\"id\": 2937, \"label\": \"\", \"group\": \"MISC\", \"title\": \"Node('MISC', fecha='11/10/20', municipio='zapopan', name='a primera')\"}, {\"id\": 2947, \"label\": \"\", \"group\": \"MISC\", \"title\": \"Node('MISC', fecha='11/10/20', municipio='zapopan', name='Italika')\"}, {\"id\": 5657, \"label\": \"Gobierno federal, del\", \"group\": \"LOC\", \"title\": \"Node('LOC', fecha='11/10/20', municipio='zapopan', name='Gobierno federal, del')\"}, {\"id\": 5658, \"label\": \"\", \"group\": \"ORG\", \"title\": \"Node('ORG', fecha='11/10/20', municipio='zapopan', name='Poder Legislativo y Judicial')\"}, {\"id\": 800, \"label\": \"\", \"group\": \"MISC\", \"title\": \"Node('MISC', fecha='11/10/20', municipio='zapopan', name='El presidente de la Central Integradora de Carga')\"}, {\"id\": 810, \"label\": \"Valle del Yaqui\", \"group\": \"LOC\", \"title\": \"Node('LOC', fecha='11/10/20', municipio='zapopan', name='Valle del Yaqui')\"}, {\"id\": 2725, \"label\": \"Alfonso Durazo\", \"group\": \"PER\", \"title\": \"Node('PER', fecha='11/10/20', municipio='zapopan', name='Alfonso Durazo')\"}, {\"id\": 1641, \"label\": \"Rafael Caro Quintero\", \"group\": \"PER\", \"title\": \"Node('PER', fecha='11/10/20', municipio='zapopan', name='Rafael Caro Quintero')\"}, {\"id\": 2734, \"label\": \"\", \"group\": \"MISC\", \"title\": \"Node('MISC', fecha='11/10/20', municipio='zapopan', name='Twitter')\"}, {\"id\": 4293, \"label\": \"\", \"group\": \"MISC\", \"title\": \"Node('MISC', fecha='11/10/20', municipio='guadalajara', name='Sembrando Vida')\"}, {\"id\": 461, \"label\": \"Estado\", \"group\": \"LOC\", \"title\": \"Node('LOC', fecha='11/10/20', municipio='zapopan', name='Estado')\"}, {\"id\": 2818, \"label\": \"Centro\", \"group\": \"LOC\", \"title\": \"Node('LOC', fecha='11/10/20', municipio='zapopan', name='Centro')\"}, {\"id\": 5498, \"label\": \"\", \"group\": \"ORG\", \"title\": \"Node('ORG', fecha='11/10/20', municipio='zapopan', name='Grupo \\u00c9lite')\"}, {\"id\": 5499, \"label\": \"\", \"group\": \"MISC\", \"title\": \"Node('MISC', fecha='11/10/20', municipio='zapopan', name='a acusan de vender')\"}, {\"id\": 5636, \"label\": \"\", \"group\": \"MISC\", \"title\": \"Node('MISC', fecha='11/10/20', municipio='zapopan', name='Atlas de Homicidios: M\\u00e9xico 2019')\"}, {\"id\": 87, \"label\": \"Sonora\", \"group\": \"LOC\", \"title\": \"Node('LOC', fecha='11/10/20', municipio='zapopan', name='Sonora')\"}, {\"id\": 3652, \"label\": \"\", \"group\": \"MISC\", \"title\": \"Node('MISC', fecha='11/10/20', municipio='zapopan', name=' hechos')\"}, {\"id\": 3660, \"label\": \"avenida \\\"C\", \"group\": \"LOC\", \"title\": \"Node('LOC', fecha='11/10/20', municipio='zapopan', name='avenida \\\"C')\"}];\n",
              "    var edges = [{\"from\": 865, \"to\": 876, \"label\": \"r-implicita\"}, {\"from\": 5484, \"to\": 5488, \"label\": \"r-implicita\"}, {\"from\": 2926, \"to\": 2931, \"label\": \"r-implicita\"}, {\"from\": 5975, \"to\": 5977, \"label\": \"r-implicita\"}, {\"from\": 4253, \"to\": 4273, \"label\": \"r-implicita\"}, {\"from\": 2971, \"to\": 2985, \"label\": \"r-implicita\"}, {\"from\": 412, \"to\": 226, \"label\": \"r-implicita\"}, {\"from\": 412, \"to\": 4364, \"label\": \"r-implicita\"}, {\"from\": 412, \"to\": 415, \"label\": \"r-implicita\"}, {\"from\": 412, \"to\": 3501, \"label\": \"r-implicita\"}, {\"from\": 676, \"to\": 218, \"label\": \"r-implicita\"}, {\"from\": 676, \"to\": 5734, \"label\": \"r-implicita\"}, {\"from\": 676, \"to\": 1745, \"label\": \"r-implicita\"}, {\"from\": 3671, \"to\": 3693, \"label\": \"r-implicita\"}, {\"from\": 2937, \"to\": 2947, \"label\": \"r-implicita\"}, {\"from\": 5657, \"to\": 5658, \"label\": \"r-implicita\"}, {\"from\": 800, \"to\": 810, \"label\": \"r-implicita\"}, {\"from\": 2725, \"to\": 1641, \"label\": \"r-implicita\"}, {\"from\": 2725, \"to\": 2734, \"label\": \"r-implicita\"}, {\"from\": 4273, \"to\": 4293, \"label\": \"r-implicita\"}, {\"from\": 810, \"to\": 461, \"label\": \"r-implicita\"}, {\"from\": 810, \"to\": 2818, \"label\": \"r-implicita\"}, {\"from\": 5498, \"to\": 5499, \"label\": \"r-implicita\"}, {\"from\": 5636, \"to\": 87, \"label\": \"r-implicita\"}, {\"from\": 3652, \"to\": 3660, \"label\": \"r-implicita\"}];\n",
              "\n",
              "    var container = document.getElementById(\"cbd86a3b-59ef-46e5-9acb-6139707b905b\");\n",
              "\n",
              "    var data = {\n",
              "        nodes: nodes,\n",
              "        edges: edges\n",
              "    };\n",
              "\n",
              "    var options = {\n",
              "    nodes: {\n",
              "        shape: 'dot',\n",
              "        size: 25,\n",
              "        font: {\n",
              "            size: 14\n",
              "        }\n",
              "    },\n",
              "    edges: {\n",
              "        font: {\n",
              "            size: 14,\n",
              "            align: 'middle'\n",
              "        },\n",
              "        color: 'gray',\n",
              "        arrows: {\n",
              "            to: {\n",
              "                enabled: true,\n",
              "                scaleFactor: 0.5\n",
              "            }\n",
              "        },\n",
              "        smooth: {\n",
              "            enabled: false\n",
              "        }\n",
              "    },\n",
              "    physics: {\n",
              "        enabled: true\n",
              "        }\n",
              "    };\n",
              "\n",
              "    var network = new vis.Network(container, data, options);\n",
              "\n",
              "</script>\n"
            ]
          },
          "metadata": {},
          "execution_count": 13
        }
      ],
      "source": [
        "import neo4jupyter\n",
        "import os\n",
        "import json\n",
        "import uuid\n",
        "import tempfile\n",
        "from IPython.display import HTML, Javascript, display\n",
        "\n",
        "from py2neo import Graph, Node, Relationship\n",
        "url = \"neo4j+s://145533a5.databases.neo4j.io\"\n",
        "pwd = \"aF07ZbB2Mbbh1ncWRK0Uz3lmICtIv9bMw8VtKzVd5cw\"\n",
        "graph = Graph(url,auth=(\"neo4j\",pwd))\n",
        "neo4jupyter.init_notebook_mode()\n",
        "neo4jupyter.draw(graph=graph,options={\"PER\": \"name\", \"LOC\": \"name\"}, physics=True, limit=20)"
      ]
    }
  ],
  "metadata": {
    "colab": {
      "name": "Estancia_Entregable_Primera_Parte.ipynb",
      "provenance": [],
      "collapsed_sections": [
        "Uhz8vdUWHevF",
        "CR7hadrRGaLr"
      ]
    },
    "kernelspec": {
      "display_name": "Python 3",
      "name": "python3"
    },
    "language_info": {
      "name": "python"
    }
  },
  "nbformat": 4,
  "nbformat_minor": 0
}